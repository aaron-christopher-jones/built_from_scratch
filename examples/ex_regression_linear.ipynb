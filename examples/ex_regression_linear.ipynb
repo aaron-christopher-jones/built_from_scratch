{
 "cells": [
  {
   "cell_type": "markdown",
   "metadata": {},
   "source": [
    "## Example: Linear Regression"
   ]
  },
  {
   "cell_type": "code",
   "execution_count": null,
   "metadata": {},
   "outputs": [],
   "source": [
    "import matplotlib.pyplot as plt\n",
    "import numpy as np\n",
    "\n",
    "from scratch.algos.regression.linear import LinearRegression\n",
    "from scratch.utils.evaluation import *"
   ]
  },
  {
   "cell_type": "code",
   "execution_count": null,
   "metadata": {},
   "outputs": [],
   "source": [
    "n = 500\n",
    "eps = np.random.normal(loc=0, scale=2.5, size=n).reshape(n, 1)\n",
    "x0 = np.array([1] * n).reshape(n, 1)\n",
    "x1 = np.random.normal(loc=0, scale=5.6, size=n).reshape(n, 1)\n",
    "x2 = np.random.normal(loc=2.3, scale=0.6, size=n).reshape(n, 1)\n",
    "x3 = np.random.gamma(shape=1.1, scale=2, size=n).reshape(n, 1)\n",
    "x4 = np.random.beta(a=3, b=3, size=n).reshape(n, 1)\n",
    "X = np.concatenate((x0, x1, x2, x3, x4), axis=1)\n",
    "y = (7.2 * x0) + (0.41 * x1) + (1.93 * x2) + (2.11 * x3) + (4.2 * x4) + eps\n",
    "Xtrain = X[:400]\n",
    "ytrain = y[:400]\n",
    "Xvalid = X[400:]\n",
    "yvalid = y[400:]"
   ]
  },
  {
   "cell_type": "code",
   "execution_count": null,
   "metadata": {},
   "outputs": [],
   "source": [
    "m = LinearRegression(learning_rate=0.01, tol_err=1e-06)\n",
    "m.fit(Xtrain=Xtrain, ytrain=ytrain)\n",
    "yhat = m.predict(Xvalid=Xvalid)"
   ]
  },
  {
   "cell_type": "code",
   "execution_count": null,
   "metadata": {},
   "outputs": [],
   "source": [
    "print(\"Coefficients:\\n{}\".format(m.coefs))\n",
    "print(\"MAE%: {}\".format(metric_maep(y=yvalid, yhat=yhat)))\n",
    "print(\"RMSE: {}\".format(metric_rmse(y=yvalid, yhat=yhat)))"
   ]
  },
  {
   "cell_type": "code",
   "execution_count": null,
   "metadata": {},
   "outputs": [],
   "source": [
    "plt.plot(yhat, yvalid, \"o\")\n",
    "plt.xlabel(\"Predicted\")\n",
    "plt.ylabel(\"Actual\")\n",
    "plt.show()"
   ]
  },
  {
   "cell_type": "code",
   "execution_count": null,
   "metadata": {},
   "outputs": [],
   "source": [
    "plt.plot(yhat, \"-\", label=\"predict\")\n",
    "plt.plot(yvalid, \"-\", label=\"actual\")\n",
    "plt.legend()\n",
    "plt.show()"
   ]
  },
  {
   "cell_type": "code",
   "execution_count": null,
   "metadata": {},
   "outputs": [],
   "source": []
  }
 ],
 "metadata": {
  "interpreter": {
   "hash": "aee8b7b246df8f9039afb4144a1f6fd8d2ca17a180786b69acc140d282b71a49"
  },
  "kernelspec": {
   "display_name": "Python 3.9.6 64-bit",
   "language": "python",
   "name": "python3"
  },
  "language_info": {
   "codemirror_mode": {
    "name": "ipython",
    "version": 3
   },
   "file_extension": ".py",
   "mimetype": "text/x-python",
   "name": "python",
   "nbconvert_exporter": "python",
   "pygments_lexer": "ipython3",
   "version": "3.9.6"
  },
  "orig_nbformat": 4
 },
 "nbformat": 4,
 "nbformat_minor": 2
}
