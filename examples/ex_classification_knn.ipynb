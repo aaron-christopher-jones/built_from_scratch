{
 "cells": [
  {
   "cell_type": "markdown",
   "metadata": {},
   "source": [
    "## Example: K Nearest Neighbors"
   ]
  },
  {
   "cell_type": "code",
   "execution_count": 4,
   "metadata": {},
   "outputs": [
    {
     "ename": "ModuleNotFoundError",
     "evalue": "No module named 'matplotlib'",
     "output_type": "error",
     "traceback": [
      "\u001b[0;31m---------------------------------------------------------------------------\u001b[0m",
      "\u001b[0;31mModuleNotFoundError\u001b[0m                       Traceback (most recent call last)",
      "\u001b[0;32m/var/folders/m2/yzswxjtx187_z4vyv8101vmh0000gn/T/ipykernel_3242/345390684.py\u001b[0m in \u001b[0;36m<module>\u001b[0;34m\u001b[0m\n\u001b[0;32m----> 1\u001b[0;31m \u001b[0;32mimport\u001b[0m \u001b[0mmatplotlib\u001b[0m\u001b[0;34m.\u001b[0m\u001b[0mpyplot\u001b[0m \u001b[0;32mas\u001b[0m \u001b[0mplt\u001b[0m\u001b[0;34m\u001b[0m\u001b[0;34m\u001b[0m\u001b[0m\n\u001b[0m\u001b[1;32m      2\u001b[0m \u001b[0;32mimport\u001b[0m \u001b[0mnumpy\u001b[0m \u001b[0;32mas\u001b[0m \u001b[0mnp\u001b[0m\u001b[0;34m\u001b[0m\u001b[0;34m\u001b[0m\u001b[0m\n\u001b[1;32m      3\u001b[0m \u001b[0;32mimport\u001b[0m \u001b[0mpandas\u001b[0m \u001b[0;32mas\u001b[0m \u001b[0mpd\u001b[0m\u001b[0;34m\u001b[0m\u001b[0;34m\u001b[0m\u001b[0m\n\u001b[1;32m      4\u001b[0m \u001b[0;32mimport\u001b[0m \u001b[0mseaborn\u001b[0m \u001b[0;32mas\u001b[0m \u001b[0msns\u001b[0m\u001b[0;34m\u001b[0m\u001b[0;34m\u001b[0m\u001b[0m\n\u001b[1;32m      5\u001b[0m \u001b[0;34m\u001b[0m\u001b[0m\n",
      "\u001b[0;31mModuleNotFoundError\u001b[0m: No module named 'matplotlib'"
     ]
    }
   ],
   "source": [
    "import matplotlib.pyplot as plt\n",
    "import numpy as np\n",
    "import pandas as pd\n",
    "\n",
    "from scratch.algos.classification.knn import KNearestNeighbors\n",
    "from scratch.utils.evaluation import *"
   ]
  },
  {
   "cell_type": "code",
   "execution_count": 2,
   "metadata": {},
   "outputs": [
    {
     "ename": "NameError",
     "evalue": "name 'pd' is not defined",
     "output_type": "error",
     "traceback": [
      "\u001b[0;31m---------------------------------------------------------------------------\u001b[0m",
      "\u001b[0;31mNameError\u001b[0m                                 Traceback (most recent call last)",
      "\u001b[0;32m/var/folders/m2/yzswxjtx187_z4vyv8101vmh0000gn/T/ipykernel_3242/690390530.py\u001b[0m in \u001b[0;36m<module>\u001b[0;34m\u001b[0m\n\u001b[1;32m      1\u001b[0m cancer = (\n\u001b[0;32m----> 2\u001b[0;31m     pd.read_csv(\n\u001b[0m\u001b[1;32m      3\u001b[0m         \u001b[0;34m\"./data/BreastCancer.csv\"\u001b[0m\u001b[0;34m,\u001b[0m\u001b[0;34m\u001b[0m\u001b[0;34m\u001b[0m\u001b[0m\n\u001b[1;32m      4\u001b[0m         \u001b[0mheader\u001b[0m\u001b[0;34m=\u001b[0m\u001b[0;36m0\u001b[0m\u001b[0;34m,\u001b[0m\u001b[0;34m\u001b[0m\u001b[0;34m\u001b[0m\u001b[0m\n\u001b[1;32m      5\u001b[0m         names=[\n",
      "\u001b[0;31mNameError\u001b[0m: name 'pd' is not defined"
     ]
    }
   ],
   "source": [
    "cancer = (\n",
    "    pd.read_csv(\n",
    "        \"./data/BreastCancer.csv\",\n",
    "        header=0,\n",
    "        names=[\n",
    "            \"id\", \"diag\", \"radius\", \"texture\", \"perimeter\", \"area\", \"smoothness\", \n",
    "            \"compactness\", \"concavity\", \"concave_points\", \"symmetry\", \"fractal_dimension\"\n",
    "        ]\n",
    "    )\n",
    "    .sample(frac=1)\n",
    "    .dropna(axis=0)\n",
    "    .drop(columns=[\"id\"])\n",
    "    .replace({\"diag\": {\"M\": 1, \"B\": 0}})\n",
    ")\n",
    "\n",
    "nvalid = int(np.floor(cancer.shape[0] * 0.3))\n",
    "\n",
    "dftrain = cancer.head(n=-nvalid)\n",
    "Xtrain = dftrain.drop(columns=['diag']).to_numpy()\n",
    "ytrain = dftrain['diag'].values\n",
    "\n",
    "dfvalid = cancer.tail(n=nvalid)\n",
    "Xvalid = dfvalid.drop(columns=['diag']).to_numpy()\n",
    "yvalid = dfvalid['diag'].values\n"
   ]
  },
  {
   "cell_type": "code",
   "execution_count": null,
   "metadata": {},
   "outputs": [],
   "source": [
    "list_targets = [(\"Total\", cancer.diag.values), (\"Train\", ytrain), (\"Valid\", yvalid)]\n",
    "print(\"Label order:   [0 1]\")\n",
    "print(\"Target: Counts, Percentages:\")\n",
    "\n",
    "for name_, array_ in list_targets:\n",
    "    vals, cnts = np.unique(array_, return_counts=True)\n",
    "    print(\"\\t{0}: {1}, {2}\".format(name_, cnts, np.around(cnts / len(array_), 2)))"
   ]
  },
  {
   "cell_type": "code",
   "execution_count": null,
   "metadata": {},
   "outputs": [],
   "source": [
    "m = KNearestNeighbors(num_neighbors=5)\n",
    "m.fit(Xtrain=Xtrain, ytrain=ytrain)\n",
    "ypred = m.predict(Xvalid=Xvalid)"
   ]
  },
  {
   "cell_type": "code",
   "execution_count": null,
   "metadata": {},
   "outputs": [],
   "source": [
    "c_count = build_confusion_matrix(y=yvalid, yhat=ypred, as_percentage=False)\n",
    "print(c_count)"
   ]
  },
  {
   "cell_type": "code",
   "execution_count": null,
   "metadata": {},
   "outputs": [],
   "source": [
    "c_percent = build_confusion_matrix(y=yvalid, yhat=ypred, as_percentage=True)\n",
    "print(c_percent)"
   ]
  },
  {
   "cell_type": "code",
   "execution_count": null,
   "metadata": {},
   "outputs": [],
   "source": [
    "tn = c_count.iloc[0, 0]\n",
    "tp = c_count.iloc[1, 1]\n",
    "fp = c_count.iloc[0, 1]\n",
    "fn = c_count.iloc[1, 0]\n",
    "\n",
    "metric = [\n",
    "    \"Accurary\", \"F1\", \"Sensitivity\", \"Specificity\", \n",
    "    \"False Negative Rate\", \"False Positive Rate\"\n",
    "]\n",
    "\n",
    "score = [\n",
    "    (tp + tn) / (tp + fp + fn + tn), tp / (tp + 0.5 * (fp + fn)), \n",
    "    tp / (tp + fn), tn / (tn + fp), fn / (fn + tp), fp / (fp + tn)\n",
    "]\n",
    "score = [round(s, 3) for s in score]\n",
    "score += score[:1]\n",
    "\n",
    "N = len(metric)\n",
    "\n",
    "angles = [n / float(N) * 2 * pi for n in range(N)]\n",
    "angles += angles[:1]\n",
    "\n",
    "plt.polar(angles, score)\n",
    "for a, s in zip(angles, score):\n",
    "    plt.text(a, s - 0.01, s)\n",
    "plt.xticks(angles[:-1], metric)\n",
    "plt.yticks(list(np.linspace(0.2, 1, 5)), color=\"grey\", size=15)\n",
    "plt.ylim(0, 1)\n",
    "plt.show()"
   ]
  },
  {
   "cell_type": "code",
   "execution_count": null,
   "metadata": {},
   "outputs": [],
   "source": [
    "print(metric)\n",
    "print(score)"
   ]
  }
 ],
 "metadata": {
  "interpreter": {
   "hash": "aee8b7b246df8f9039afb4144a1f6fd8d2ca17a180786b69acc140d282b71a49"
  },
  "kernelspec": {
   "display_name": "Python 3.9.6 64-bit",
   "language": "python",
   "name": "python3"
  },
  "language_info": {
   "codemirror_mode": {
    "name": "ipython",
    "version": 3
   },
   "file_extension": ".py",
   "mimetype": "text/x-python",
   "name": "python",
   "nbconvert_exporter": "python",
   "pygments_lexer": "ipython3",
   "version": "3.9.6"
  },
  "orig_nbformat": 4
 },
 "nbformat": 4,
 "nbformat_minor": 2
}
